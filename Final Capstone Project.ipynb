{
    "nbformat_minor": 1, 
    "cells": [
        {
            "source": "Introduction/Business Section: Define a problem or an idea of choice using Foursquare location data.", 
            "cell_type": "markdown", 
            "metadata": {
                "collapsed": true
            }
        }, 
        {
            "source": "Problem: As a avid Taco Bell customer, I have decided that I wanted to become a franchisee of Taco Bell. As an owner of Taco Bell, I want to find the best location where I could build my own new Taco Bell.  By using the foursquare data, I could locate the best area to build my new Taco Bell and start selling my favorite fast food.  Since it would be difficult to find the best area in all of the US.  I have decided that I wanted to open my Taco Bell in Irvine, California.", 
            "cell_type": "markdown", 
            "metadata": {}
        }, 
        {
            "source": "Why this problem?: One of the most important parts of a fast food business is knowing where to put your new location.  As a new Taco Bell franchisee, I want to avoid being in to close proximity from other Taco Bells but still being able to get enough customers to keep my business running.  Using foursquare, I can use it to find taco bell and fast food locations to see where I should place my new Taco Bell", 
            "cell_type": "markdown", 
            "metadata": {}
        }, 
        {
            "source": "Data Section: Fast food Location data", 
            "cell_type": "markdown", 
            "metadata": {}
        }, 
        {
            "source": "1. First I will find the locations of all Taco Bells in the city of Irvine, California.\n2. Then I will find all the locations of Fast food restaurants in the city of Irvine.\n3. I want to avoid all the areas that contain a Taco Bells in Irvine so I can't open a Taco bell within 5miles of another one in Irvine.\n4. I will find the ratings of all the locations of fast food restaurants in the city of Irvine. (If their rating is low, I will consider it a better area to open my new Taco Bell to try to take the customers in the area.  \n5. My program will take all the data stated above and provide the best area in lat and long to build my new Taco Bell.", 
            "cell_type": "markdown", 
            "metadata": {}
        }, 
        {
            "source": "Methodology: After taking the data from foursquare API, I decided to use the geo map to plot out all the areas with Taco shops.  By visualizing where all the taco shops are, I can\nmake a better judgement of whether Irvine is a perfect spot as a franchisee to open up a store. The circle markers used by the geo map helps me see where I could possibly open \nup a new shop.\n", 
            "cell_type": "markdown", 
            "metadata": {}
        }, 
        {
            "source": "Results: \nThe results show that there are many different taco places in Irivne.  Within Irvine, there was already 26 different Taco shops with high ratings in the area.  \nFrom the map shown, it shows that there are too many competitive Taco shops in the area and Irvine is not the best place to open a new Taco Bell.  I will try to use this\nmethodology for other places.", 
            "cell_type": "markdown", 
            "metadata": {}
        }, 
        {
            "source": "Discussion:\nIt clearly shows that Irvine is not the best area to open up a new Taco Bell.  I would recommend to open a Taco Bell shop somewhere with less taco shops around.\nHaving less competition, makes it a little easier for an owner to survive.  Since there won't be as much competition, we can make more money as an owner.", 
            "cell_type": "markdown", 
            "metadata": {}
        }, 
        {
            "source": "Conclusion: \nAs a franchisee of Taco Bell, I have chosen not to open a new Taco Bell in Irvine, California.  After plotting the locations of all taco locations in Irvine, I found out \nthat within a radius of 3000 that there was 26 taco shops ", 
            "cell_type": "raw", 
            "metadata": {}
        }
    ], 
    "metadata": {
        "kernelspec": {
            "display_name": "Python 3.6", 
            "name": "python3", 
            "language": "python"
        }, 
        "language_info": {
            "mimetype": "text/x-python", 
            "nbconvert_exporter": "python", 
            "version": "3.6.8", 
            "name": "python", 
            "file_extension": ".py", 
            "pygments_lexer": "ipython3", 
            "codemirror_mode": {
                "version": 3, 
                "name": "ipython"
            }
        }
    }, 
    "nbformat": 4
}